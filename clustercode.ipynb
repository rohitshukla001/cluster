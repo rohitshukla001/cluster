{
 "cells": [
  {
   "cell_type": "code",
   "execution_count": 1,
   "id": "04037a8c",
   "metadata": {},
   "outputs": [],
   "source": [
    "import pandas as pd\n",
    "import numpy as np\n",
    "import seaborn as sb\n",
    "from matplotlib import pyplot as plt"
   ]
  },
  {
   "cell_type": "code",
   "execution_count": 2,
   "id": "76e54c54",
   "metadata": {},
   "outputs": [],
   "source": [
    "mydata=pd.read_excel(r\"C:\\Users\\student\\Desktop\\DataSet1\\Cricket_Data.xlsx\")"
   ]
  },
  {
   "cell_type": "code",
   "execution_count": 3,
   "id": "0ab3b808",
   "metadata": {},
   "outputs": [
    {
     "data": {
      "text/html": [
       "<div>\n",
       "<style scoped>\n",
       "    .dataframe tbody tr th:only-of-type {\n",
       "        vertical-align: middle;\n",
       "    }\n",
       "\n",
       "    .dataframe tbody tr th {\n",
       "        vertical-align: top;\n",
       "    }\n",
       "\n",
       "    .dataframe thead th {\n",
       "        text-align: right;\n",
       "    }\n",
       "</style>\n",
       "<table border=\"1\" class=\"dataframe\">\n",
       "  <thead>\n",
       "    <tr style=\"text-align: right;\">\n",
       "      <th></th>\n",
       "      <th>Mat</th>\n",
       "      <th>Inns</th>\n",
       "      <th>Runs</th>\n",
       "      <th>Ave</th>\n",
       "      <th>SR</th>\n",
       "    </tr>\n",
       "  </thead>\n",
       "  <tbody>\n",
       "    <tr>\n",
       "      <th>0</th>\n",
       "      <td>58</td>\n",
       "      <td>104</td>\n",
       "      <td>4154</td>\n",
       "      <td>41.95</td>\n",
       "      <td>51.49</td>\n",
       "    </tr>\n",
       "    <tr>\n",
       "      <th>1</th>\n",
       "      <td>147</td>\n",
       "      <td>143</td>\n",
       "      <td>5238</td>\n",
       "      <td>39.68</td>\n",
       "      <td>85.25</td>\n",
       "    </tr>\n",
       "    <tr>\n",
       "      <th>2</th>\n",
       "      <td>71</td>\n",
       "      <td>122</td>\n",
       "      <td>6147</td>\n",
       "      <td>53.92</td>\n",
       "      <td>58.22</td>\n",
       "    </tr>\n",
       "    <tr>\n",
       "      <th>3</th>\n",
       "      <td>211</td>\n",
       "      <td>203</td>\n",
       "      <td>9779</td>\n",
       "      <td>58.20</td>\n",
       "      <td>92.12</td>\n",
       "    </tr>\n",
       "    <tr>\n",
       "      <th>4</th>\n",
       "      <td>62</td>\n",
       "      <td>58</td>\n",
       "      <td>2102</td>\n",
       "      <td>48.88</td>\n",
       "      <td>136.22</td>\n",
       "    </tr>\n",
       "    <tr>\n",
       "      <th>...</th>\n",
       "      <td>...</td>\n",
       "      <td>...</td>\n",
       "      <td>...</td>\n",
       "      <td>...</td>\n",
       "      <td>...</td>\n",
       "    </tr>\n",
       "    <tr>\n",
       "      <th>70</th>\n",
       "      <td>77</td>\n",
       "      <td>71</td>\n",
       "      <td>1825</td>\n",
       "      <td>37.24</td>\n",
       "      <td>124.31</td>\n",
       "    </tr>\n",
       "    <tr>\n",
       "      <th>71</th>\n",
       "      <td>62</td>\n",
       "      <td>105</td>\n",
       "      <td>4809</td>\n",
       "      <td>49.57</td>\n",
       "      <td>46.90</td>\n",
       "    </tr>\n",
       "    <tr>\n",
       "      <th>72</th>\n",
       "      <td>25</td>\n",
       "      <td>43</td>\n",
       "      <td>1479</td>\n",
       "      <td>39.97</td>\n",
       "      <td>55.14</td>\n",
       "    </tr>\n",
       "    <tr>\n",
       "      <th>73</th>\n",
       "      <td>183</td>\n",
       "      <td>177</td>\n",
       "      <td>6748</td>\n",
       "      <td>44.98</td>\n",
       "      <td>87.18</td>\n",
       "    </tr>\n",
       "    <tr>\n",
       "      <th>74</th>\n",
       "      <td>84</td>\n",
       "      <td>77</td>\n",
       "      <td>2086</td>\n",
       "      <td>32.59</td>\n",
       "      <td>137.05</td>\n",
       "    </tr>\n",
       "  </tbody>\n",
       "</table>\n",
       "<p>75 rows × 5 columns</p>\n",
       "</div>"
      ],
      "text/plain": [
       "    Mat  Inns  Runs    Ave      SR\n",
       "0    58   104  4154  41.95   51.49\n",
       "1   147   143  5238  39.68   85.25\n",
       "2    71   122  6147  53.92   58.22\n",
       "3   211   203  9779  58.20   92.12\n",
       "4    62    58  2102  48.88  136.22\n",
       "..  ...   ...   ...    ...     ...\n",
       "70   77    71  1825  37.24  124.31\n",
       "71   62   105  4809  49.57   46.90\n",
       "72   25    43  1479  39.97   55.14\n",
       "73  183   177  6748  44.98   87.18\n",
       "74   84    77  2086  32.59  137.05\n",
       "\n",
       "[75 rows x 5 columns]"
      ]
     },
     "execution_count": 3,
     "metadata": {},
     "output_type": "execute_result"
    }
   ],
   "source": [
    "mydata"
   ]
  },
  {
   "cell_type": "code",
   "execution_count": 4,
   "id": "539d84e5",
   "metadata": {},
   "outputs": [],
   "source": [
    "X_feature=mydata.iloc[:,0:4]"
   ]
  },
  {
   "cell_type": "code",
   "execution_count": 5,
   "id": "5af3b9c5",
   "metadata": {},
   "outputs": [
    {
     "data": {
      "text/html": [
       "<div>\n",
       "<style scoped>\n",
       "    .dataframe tbody tr th:only-of-type {\n",
       "        vertical-align: middle;\n",
       "    }\n",
       "\n",
       "    .dataframe tbody tr th {\n",
       "        vertical-align: top;\n",
       "    }\n",
       "\n",
       "    .dataframe thead th {\n",
       "        text-align: right;\n",
       "    }\n",
       "</style>\n",
       "<table border=\"1\" class=\"dataframe\">\n",
       "  <thead>\n",
       "    <tr style=\"text-align: right;\">\n",
       "      <th></th>\n",
       "      <th>Mat</th>\n",
       "      <th>Inns</th>\n",
       "      <th>Runs</th>\n",
       "      <th>Ave</th>\n",
       "    </tr>\n",
       "  </thead>\n",
       "  <tbody>\n",
       "    <tr>\n",
       "      <th>0</th>\n",
       "      <td>58</td>\n",
       "      <td>104</td>\n",
       "      <td>4154</td>\n",
       "      <td>41.95</td>\n",
       "    </tr>\n",
       "    <tr>\n",
       "      <th>1</th>\n",
       "      <td>147</td>\n",
       "      <td>143</td>\n",
       "      <td>5238</td>\n",
       "      <td>39.68</td>\n",
       "    </tr>\n",
       "    <tr>\n",
       "      <th>2</th>\n",
       "      <td>71</td>\n",
       "      <td>122</td>\n",
       "      <td>6147</td>\n",
       "      <td>53.92</td>\n",
       "    </tr>\n",
       "    <tr>\n",
       "      <th>3</th>\n",
       "      <td>211</td>\n",
       "      <td>203</td>\n",
       "      <td>9779</td>\n",
       "      <td>58.20</td>\n",
       "    </tr>\n",
       "    <tr>\n",
       "      <th>4</th>\n",
       "      <td>62</td>\n",
       "      <td>58</td>\n",
       "      <td>2102</td>\n",
       "      <td>48.88</td>\n",
       "    </tr>\n",
       "    <tr>\n",
       "      <th>...</th>\n",
       "      <td>...</td>\n",
       "      <td>...</td>\n",
       "      <td>...</td>\n",
       "      <td>...</td>\n",
       "    </tr>\n",
       "    <tr>\n",
       "      <th>70</th>\n",
       "      <td>77</td>\n",
       "      <td>71</td>\n",
       "      <td>1825</td>\n",
       "      <td>37.24</td>\n",
       "    </tr>\n",
       "    <tr>\n",
       "      <th>71</th>\n",
       "      <td>62</td>\n",
       "      <td>105</td>\n",
       "      <td>4809</td>\n",
       "      <td>49.57</td>\n",
       "    </tr>\n",
       "    <tr>\n",
       "      <th>72</th>\n",
       "      <td>25</td>\n",
       "      <td>43</td>\n",
       "      <td>1479</td>\n",
       "      <td>39.97</td>\n",
       "    </tr>\n",
       "    <tr>\n",
       "      <th>73</th>\n",
       "      <td>183</td>\n",
       "      <td>177</td>\n",
       "      <td>6748</td>\n",
       "      <td>44.98</td>\n",
       "    </tr>\n",
       "    <tr>\n",
       "      <th>74</th>\n",
       "      <td>84</td>\n",
       "      <td>77</td>\n",
       "      <td>2086</td>\n",
       "      <td>32.59</td>\n",
       "    </tr>\n",
       "  </tbody>\n",
       "</table>\n",
       "<p>75 rows × 4 columns</p>\n",
       "</div>"
      ],
      "text/plain": [
       "    Mat  Inns  Runs    Ave\n",
       "0    58   104  4154  41.95\n",
       "1   147   143  5238  39.68\n",
       "2    71   122  6147  53.92\n",
       "3   211   203  9779  58.20\n",
       "4    62    58  2102  48.88\n",
       "..  ...   ...   ...    ...\n",
       "70   77    71  1825  37.24\n",
       "71   62   105  4809  49.57\n",
       "72   25    43  1479  39.97\n",
       "73  183   177  6748  44.98\n",
       "74   84    77  2086  32.59\n",
       "\n",
       "[75 rows x 4 columns]"
      ]
     },
     "execution_count": 5,
     "metadata": {},
     "output_type": "execute_result"
    }
   ],
   "source": [
    "X_feature"
   ]
  },
  {
   "cell_type": "code",
   "execution_count": 6,
   "id": "7c6473a1",
   "metadata": {},
   "outputs": [],
   "source": [
    "def Rel(f1, f2, data):\n",
    "    sb.lmplot(f1, f2, data=data, fit_reg=True, scatter_kws={\"s\":40})\n",
    "    plt.title(\"Corr plot between {} amd {}\".format(f1,f2))\n",
    "    plt.xlabel(f1)\n",
    "    plt.ylabel(f2)\n",
    "    plt.show()"
   ]
  },
  {
   "cell_type": "code",
   "execution_count": 7,
   "id": "d443d965",
   "metadata": {},
   "outputs": [
    {
     "ename": "SyntaxError",
     "evalue": "invalid syntax (<ipython-input-7-ff42e1a0d6e0>, line 1)",
     "output_type": "error",
     "traceback": [
      "\u001b[1;36m  File \u001b[1;32m\"<ipython-input-7-ff42e1a0d6e0>\"\u001b[1;36m, line \u001b[1;32m1\u001b[0m\n\u001b[1;33m    corr between Mat vs Inns\u001b[0m\n\u001b[1;37m         ^\u001b[0m\n\u001b[1;31mSyntaxError\u001b[0m\u001b[1;31m:\u001b[0m invalid syntax\n"
     ]
    }
   ],
   "source": [
    "corr between Mat vs Inns\n",
    "Rel(\"Mat\", \"Inns\", X_feature)"
   ]
  },
  {
   "cell_type": "code",
   "execution_count": null,
   "id": "cf79752b",
   "metadata": {},
   "outputs": [],
   "source": [
    "corrWith(\"Mat\", \"Runs\", X_feature)"
   ]
  },
  {
   "cell_type": "code",
   "execution_count": null,
   "id": "651ce424",
   "metadata": {},
   "outputs": [],
   "source": [
    "corrWith(\"Runs\", \"Inns\", X_feature)"
   ]
  },
  {
   "cell_type": "code",
   "execution_count": null,
   "id": "8e82b49e",
   "metadata": {},
   "outputs": [],
   "source": [
    "XA_feature=X_feature.values"
   ]
  },
  {
   "cell_type": "code",
   "execution_count": null,
   "id": "bf2feecb",
   "metadata": {},
   "outputs": [],
   "source": [
    "from sklearn.cluster import KMeans"
   ]
  },
  {
   "cell_type": "code",
   "execution_count": null,
   "id": "5bdb62d4",
   "metadata": {},
   "outputs": [],
   "source": [
    "k=3"
   ]
  },
  {
   "cell_type": "code",
   "execution_count": null,
   "id": "1360a0b3",
   "metadata": {},
   "outputs": [],
   "source": [
    "k_Clusetr=KMeans(n_clusters=k).fit(XA_feature)"
   ]
  },
  {
   "cell_type": "code",
   "execution_count": null,
   "id": "0fd7df72",
   "metadata": {},
   "outputs": [],
   "source": [
    "kValue=k_Clusetr.cluster_centers_\n",
    "print(\"value of means {}\")"
   ]
  },
  {
   "cell_type": "code",
   "execution_count": null,
   "id": "a8fef7f3",
   "metadata": {},
   "outputs": [],
   "source": [
    "X_feature.head()"
   ]
  },
  {
   "cell_type": "code",
   "execution_count": null,
   "id": "be27c6eb",
   "metadata": {},
   "outputs": [],
   "source": [
    "kValue[0].tolist()"
   ]
  },
  {
   "cell_type": "code",
   "execution_count": null,
   "id": "54dd5b71",
   "metadata": {},
   "outputs": [],
   "source": [
    "ColName=X_feature.columns.tolist()\n",
    "pd.DataFrame([kValue[0].tolist(),kValue[1].tolist(), kValue[1].tolist()], index=[\"c1\", \"c2\", \"c3\"],columns=ColName)"
   ]
  },
  {
   "cell_type": "code",
   "execution_count": null,
   "id": "a804aff2",
   "metadata": {},
   "outputs": [],
   "source": [
    "ColName"
   ]
  },
  {
   "cell_type": "code",
   "execution_count": null,
   "id": "c0e0cfdd",
   "metadata": {},
   "outputs": [],
   "source": [
    "X_feature[\"Cluster\"]=k_Clusetr.labels_"
   ]
  },
  {
   "cell_type": "code",
   "execution_count": null,
   "id": "12b8ec52",
   "metadata": {},
   "outputs": [],
   "source": [
    "X_feature"
   ]
  },
  {
   "cell_type": "code",
   "execution_count": null,
   "id": "94b2cfdc",
   "metadata": {},
   "outputs": [],
   "source": [
    "def Relnew(f1, f2, data , huevalue=\"No\"):\n",
    "    if huevalue==\"No\":\n",
    "        sb.lmplot(f1, f2,data=data,fit_reg=False,scatter_kws={\"s\":40})\n",
    "        plt.title(\"Corr plot between {} amd {}\".format(f1,f2))\n",
    "        plt.xlabel(f1)\n",
    "        plt.ylabel(f2)\n",
    "        plt.show()\n",
    "    else:\n",
    "        sb.lmplot(f1, f2, data=data, fit_reg=False, scatter_kws={\"s\":40},hue=huevalue)\n",
    "        plt.title(\"Corr plot between {} amd {}\".format(f1,f2))\n",
    "        plt.xlabel(f1)\n",
    "        plt.ylabel(f2)\n",
    "        plt.show()"
   ]
  },
  {
   "cell_type": "code",
   "execution_count": null,
   "id": "69d0d24c",
   "metadata": {},
   "outputs": [],
   "source": [
    "Relnew(\"Runs\", \"Inns\",  X_feature , huevalue=\"Cluster\")"
   ]
  },
  {
   "cell_type": "code",
   "execution_count": null,
   "id": "2ac79a4a",
   "metadata": {},
   "outputs": [],
   "source": [
    "k=range(1,10)"
   ]
  },
  {
   "cell_type": "code",
   "execution_count": null,
   "id": "645969c9",
   "metadata": {},
   "outputs": [],
   "source": [
    "wssErrorList=[]\n",
    "for i in k:\n",
    "    KmeanCluster=KMeans(n_clusters=i)\n",
    "    KMeanCluster=KmeanCluster.fit(XA_feature)\n",
    "    wssError=KmeanCluster.inertia_\n",
    "    wssErrorList.append(wssError)\n",
    "   # print(\"Number of Cluster is {} ans wss is ()\").format(i, wssError)"
   ]
  },
  {
   "cell_type": "code",
   "execution_count": null,
   "id": "852672b2",
   "metadata": {},
   "outputs": [],
   "source": [
    "plt.plot(k, wssErrorList, 'bx-')\n",
    "plt.xlabel(\"k Value\")\n",
    "plt.ylabel(\"Sum of with in cluster error\")\n",
    "plt.title(\"Elow method for finding Number Cluster\")\n",
    "plt.show()"
   ]
  },
  {
   "cell_type": "code",
   "execution_count": null,
   "id": "c95da22d",
   "metadata": {},
   "outputs": [],
   "source": []
  }
 ],
 "metadata": {
  "kernelspec": {
   "display_name": "Python 3",
   "language": "python",
   "name": "python3"
  },
  "language_info": {
   "codemirror_mode": {
    "name": "ipython",
    "version": 3
   },
   "file_extension": ".py",
   "mimetype": "text/x-python",
   "name": "python",
   "nbconvert_exporter": "python",
   "pygments_lexer": "ipython3",
   "version": "3.8.8"
  }
 },
 "nbformat": 4,
 "nbformat_minor": 5
}
